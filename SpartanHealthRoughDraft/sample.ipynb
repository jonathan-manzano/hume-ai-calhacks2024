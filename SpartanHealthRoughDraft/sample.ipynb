{
 "cells": [
  {
   "metadata": {},
   "cell_type": "markdown",
   "source": [
    "# This is a sample Jupyter Notebook\n",
    "\n",
    "Below is an example of a code cell. \n",
    "Put your cursor into the cell and press Shift+Enter to execute it and select the next one, or click !here goes the icon of the corresponding button in the gutter! button.\n",
    "To debug a cell, press Alt+Shift+Enter, or click !here goes the icon of the corresponding button in the gutter! button.\n",
    "\n",
    "Press Double Shift to search everywhere for classes, files, tool windows, actions, and settings.\n",
    "\n",
    "To learn more about Jupyter Notebooks in PyCharm, see [help](https://www.jetbrains.com/help/pycharm/jupyter-notebook-support.html).\n",
    "For an overview of PyCharm, go to Help -> Learn IDE features or refer to [our documentation](https://www.jetbrains.com/help/pycharm/getting-started.html)."
   ],
   "id": "8a77807f92f26ee"
  },
  {
   "metadata": {
    "ExecuteTime": {
     "end_time": "2024-06-23T05:01:11.201967Z",
     "start_time": "2024-06-23T05:01:11.198659Z"
    }
   },
   "cell_type": "code",
   "source": [
    "import asyncio\n",
    "import os\n",
    "from hume import HumeVoiceClient, MicrophoneInterface\n",
    "from dotenv import load_dotenv\n",
    "\n",
    "load_dotenv()\n"
   ],
   "id": "fbc121e30a2defb3",
   "outputs": [],
   "execution_count": 12
  },
  {
   "metadata": {
    "ExecuteTime": {
     "end_time": "2024-06-23T05:01:14.230076Z",
     "start_time": "2024-06-23T05:01:14.223902Z"
    }
   },
   "cell_type": "code",
   "source": "",
   "id": "4c81370b29e1f777",
   "outputs": [
    {
     "data": {
      "text/plain": [
       "True"
      ]
     },
     "execution_count": 13,
     "metadata": {},
     "output_type": "execute_result"
    }
   ],
   "execution_count": 13
  },
  {
   "metadata": {
    "ExecuteTime": {
     "end_time": "2024-06-23T05:01:14.950694Z",
     "start_time": "2024-06-23T05:01:14.946122Z"
    }
   },
   "cell_type": "code",
   "source": [
    "async def main() -> None:\n",
    "    \n",
    "    hume_api_key = os.getenv(\"HUME_API_KEY\")\n",
    "    \n",
    "    client = HumeVoiceClient(hume_api_key)\n",
    "    \n",
    "    async with client.connect() as socket:\n",
    "        await MicrophoneInterface.start(socket)\n",
    "    \n",
    "    asyncio.run(main())\n"
   ],
   "id": "16b39aaf0571b41d",
   "outputs": [],
   "execution_count": 14
  },
  {
   "metadata": {},
   "cell_type": "code",
   "outputs": [],
   "execution_count": null,
   "source": "",
   "id": "d8b78bd376b33e4"
  }
 ],
 "metadata": {
  "kernelspec": {
   "display_name": "Python 3",
   "language": "python",
   "name": "python3"
  },
  "language_info": {
   "codemirror_mode": {
    "name": "ipython",
    "version": 2
   },
   "file_extension": ".py",
   "mimetype": "text/x-python",
   "name": "python",
   "nbconvert_exporter": "python",
   "pygments_lexer": "ipython2",
   "version": "2.7.6"
  }
 },
 "nbformat": 4,
 "nbformat_minor": 5
}
